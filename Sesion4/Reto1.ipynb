{
  "nbformat": 4,
  "nbformat_minor": 0,
  "metadata": {
    "colab": {
      "provenance": [],
      "include_colab_link": true
    },
    "kernelspec": {
      "name": "ir",
      "display_name": "R"
    },
    "language_info": {
      "name": "R"
    }
  },
  "cells": [
    {
      "cell_type": "markdown",
      "metadata": {
        "id": "view-in-github",
        "colab_type": "text"
      },
      "source": [
        "<a href=\"https://colab.research.google.com/github/Ulimax/Analisis-de-sentimientos-mediante-SVM-y-RF/blob/main/Sesion4/Reto1.ipynb\" target=\"_parent\"><img src=\"https://colab.research.google.com/assets/colab-badge.svg\" alt=\"Open In Colab\"/></a>"
      ]
    },
    {
      "cell_type": "markdown",
      "source": [
        "# Repaso"
      ],
      "metadata": {
        "id": "ELCCgmuXoIDL"
      }
    },
    {
      "cell_type": "markdown",
      "source": [
        "[Fuente](https://fhernanb.github.io/Manual-de-R/discretas.html)"
      ],
      "metadata": {
        "id": "2T2mGmgEoM2e"
      }
    },
    {
      "cell_type": "markdown",
      "source": [
        "Para cada distribución discreta se tienen 4 funciones, a continuación el listado de funciones y su utilidad.\n"
      ],
      "metadata": {
        "id": "T10cx4uqoW23"
      }
    },
    {
      "cell_type": "markdown",
      "source": [
        "*   Función de masa de probabilidad, **P(X=x)**\n",
        "\n",
        "    `dxxx(x, ...)  `\n",
        "*   Función de distribución acumulada hasta q, **P(X < x)**\n",
        "\n",
        "    `pxxx(q, ...)  `\n",
        "*   Cuantil para el cual **P(X <= q) = p**\n",
        "\n",
        "    `qxxx(p, ...)  `\n",
        "*   Generador de números aleatorios, recrear un experimento n-veces\n",
        "\n",
        "    `rxxx(n, ...)  `"
      ],
      "metadata": {
        "id": "JhqrHi5Zosi7"
      }
    },
    {
      "cell_type": "markdown",
      "source": [
        "# Reto 1"
      ],
      "metadata": {
        "id": "FXcQbclqqCis"
      }
    },
    {
      "cell_type": "markdown",
      "source": [
        "\n",
        "#### Objetivo\n",
        "\n",
        "- Calcular probabilidades utilizando la distribución binomial.\n",
        "\n",
        "#### Requisitos\n",
        "\n",
        "- Haber trabajado con el Prework y el Work\n",
        "\n",
        "#### Desarrollo\n",
        "\n",
        "Una maquina de ensamblaje, tiene una probabilidad de 0.15 de ensamblar de forma\n",
        "defectuosa una una unidad. Si la producción de una unidad es totaltamente independiente\n",
        "de las demás y al día se producen 10 unidades:\n",
        "```R\n",
        "set.seed(0202)\n",
        "```\n",
        "\n",
        "a) Grafica la función de distribución de la variable aleatoria. (Supon que se obtienen\n",
        "10,000 muestras)\n",
        "\n",
        "b) ¿Cuál es la probabilidad de que se produzcan dos unidades defectuosas?\n",
        "\n",
        "c) ¿Cuál es la probabilidad de que a lo mucho 4 unidades sean defectuosas?\n",
        "\n",
        "d) ¿Cuál es la probabiliad de que por lo menos tres unidades se encuentren defectuosa?\n",
        "\n",
        "e) ¿Cuál es la probabilidad de que entre 2 y 4 unidades se encuentren defectuosas?\n",
        "\n",
        "f) ¿Cuál es el número esperado de unidades defectuosas? ¿Con qué variación?\n"
      ],
      "metadata": {
        "id": "xQLtZFU_p2iV"
      }
    },
    {
      "cell_type": "code",
      "source": [
        "set.seed(0202)"
      ],
      "metadata": {
        "id": "qIKQsZW9qugI"
      },
      "execution_count": null,
      "outputs": []
    },
    {
      "cell_type": "code",
      "source": [
        "# prob = 0.15  de ensamblar de forma defectuosa\n",
        "# size = 10  ya q al día se producen 10 unidades\n",
        "# n= 10,000 ya que se producen 10,000 muestras\n",
        "# se usa rbinom para recrear el experimento las 10,000 veces\n",
        "\n",
        "binom <- rbinom(n = 10000, size = 10, prob = 0.15)"
      ],
      "metadata": {
        "id": "tXNi_7MeqxNl"
      },
      "execution_count": null,
      "outputs": []
    }
  ]
}